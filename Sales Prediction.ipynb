{
 "cells": [
  {
   "cell_type": "code",
   "execution_count": null,
   "id": "d61e7202-d992-4bd4-8200-08ca2ffe7aa3",
   "metadata": {},
   "outputs": [],
   "source": [
    "import os\n",
    "import pandas as pd\n",
    "import numpy as np\n",
    "import matplotlib.pyplot as plt\n",
    "from xgboost import XGBRegressor\n",
    "from sklearn.ensemble import RandomForestRegressor\n",
    "from sklearn.linear_model import LinearRegression\n",
    "from sklearn.preprocessing import MinMaxScaler\n",
    "from sklearn.metrics import mean_absolute_error, r2_score, mean_squared_error \n",
    "from tensorflow.keras.models import Sequential\n",
    "from tensorflow.keras.layers import Dense, LSTM \n",
    "from tensorflow.keras.callbacks import EarlyStopping, ModelCheckpoint  "
   ]
  },
  {
   "cell_type": "code",
   "execution_count": null,
   "id": "c27f55e0-98ed-4cae-907f-adaffc78a109",
   "metadata": {},
   "outputs": [],
   "source": [
    "df = pd.read_csv(\"sales_data.csv\")"
   ]
  },
  {
   "cell_type": "code",
   "execution_count": null,
   "id": "0a2cc65a-eafe-4fb4-adf4-9d27e99d4551",
   "metadata": {},
   "outputs": [],
   "source": [
    "#convert date from object datatype to datetime datatype\n",
    "df['timestamp'] = pd.to_datetime(df['timestamp'])"
   ]
  },
  {
   "cell_type": "code",
   "execution_count": null,
   "id": "bea17cde-af8e-4610-937b-5b2a09f53bf4",
   "metadata": {},
   "outputs": [],
   "source": [
    "#converting date to month period, and sum the no.of items of each month\n",
    "df['timestamp'] = df['timestamp'].dt.to_period('M') \n",
    "monthly_sales = df.groupby('timestamp').sum().reset_index()"
   ]
  },
  {
   "cell_type": "code",
   "execution_count": null,
   "id": "7edcac82-ab0a-4ef0-bb7f-8b2f14a62378",
   "metadata": {},
   "outputs": [],
   "source": [
    "df.info()"
   ]
  },
  {
   "cell_type": "code",
   "execution_count": null,
   "id": "d1c9eb5f-9052-4299-bad0-9522e4a64837",
   "metadata": {},
   "outputs": [],
   "source": [
    "#convert the timestamp column to timestamp datatype\n",
    "monthly_sales['timestamp'] = monthly_sales['timestamp'].dt.to_timestamp()"
   ]
  },
  {
   "cell_type": "markdown",
   "id": "698308c5-b105-4bfe-b9a6-be13f84a1401",
   "metadata": {},
   "source": [
    "monthly_sales.head()"
   ]
  },
  {
   "cell_type": "code",
   "execution_count": null,
   "id": "e4a5c3c9-9984-4b24-b536-87ebbc3dc7d4",
   "metadata": {},
   "outputs": [],
   "source": [
    "#Vishualize monthly sales\n",
    "plt.figure(figsize=(15, 5))\n",
    "plt.plot(monthly_sales['timestamp'], monthly_sales['sales'])\n",
    "plt.xlabel(\"Date\")\n",
    "plt.ylabel(\"Sales\")\n",
    "plt.title(\"Monthly Customer Sales\")\n",
    "plt.show()"
   ]
  },
  {
   "cell_type": "code",
   "execution_count": null,
   "id": "34fa18fe-aef3-448f-b044-d9f6e49d4b3b",
   "metadata": {},
   "outputs": [],
   "source": [
    "monthly_sales['sales_diff'] =  monthly_sales['sales'].diff() #differance\n",
    "monthly_sales = monthly_sales.dropna()\n",
    "monthly_sales.head()"
   ]
  },
  {
   "cell_type": "code",
   "execution_count": null,
   "id": "ec6b555a-b55c-450e-b7b5-87f762e6aa33",
   "metadata": {},
   "outputs": [],
   "source": [
    "plt.figure(figsize=(15, 5))\n",
    "plt.plot(monthly_sales['timestamp'], monthly_sales['sales'])\n",
    "plt.xlabel('Date')\n",
    "plt.ylabel('Sales')\n",
    "plt.title('Monthly Customer Sales Differance')\n",
    "plt.show()"
   ]
  },
  {
   "cell_type": "code",
   "execution_count": null,
   "id": "dbcaf022-0bf5-43b9-afc9-229717432381",
   "metadata": {},
   "outputs": [],
   "source": [
    "#dropping of sales and sales\n",
    "sd = monthly_sales.drop(['timestamp', 'sales'], axis=1)"
   ]
  },
  {
   "cell_type": "code",
   "execution_count": null,
   "id": "aa19dc6e-9d26-44e4-8478-a8518cfd026f",
   "metadata": {},
   "outputs": [],
   "source": [
    "#preparing the supervised data\n",
    "for i in range (1, 13):\n",
    "    col_name = 'month_', str(i)\n",
    "    sd[col_name] = sd['sales_diff'].shift(i)\n",
    "\n",
    "sd = sd.dropna(). reset_index(drop=True)\n",
    "sd.head()"
   ]
  },
  {
   "cell_type": "code",
   "execution_count": null,
   "id": "ab6f9369-b64a-40d2-9422-7caf75b44fe4",
   "metadata": {},
   "outputs": [],
   "source": [
    "#split the data\n",
    "train_data = sd[:, -12]\n",
    "test_data = sd[-12, :]\n",
    "print(\"Train data\", train_data.shape)\n",
    "print(\"Test data\", test_data.shape)"
   ]
  },
  {
   "cell_type": "code",
   "execution_count": null,
   "id": "49bbdeda-3657-46c0-a060-22db0d4e7eeb",
   "metadata": {},
   "outputs": [],
   "source": [
    "scaler = MinMaxScaler(feature_range=(-1, 1))\n",
    "scaler.fit(train_data)\n",
    "train_data = scaler.transform(train_data)\n",
    "test_data = scaler.transform(test_data)"
   ]
  },
  {
   "cell_type": "code",
   "execution_count": null,
   "id": "004121c3-8498-4a1d-a0c5-1c09528545aa",
   "metadata": {},
   "outputs": [],
   "source": [
    "x_train, y_train = train_data[:, 1:], train_data[:,0:1]\n",
    "x_test, y_test = test_data[:, 1:], test_data[:,0:1]\n",
    "y_train = y_train.ravel()\n",
    "y_test = y_test.ravel()"
   ]
  },
  {
   "cell_type": "code",
   "execution_count": null,
   "id": "55087505-9a7c-4117-92d7-aa49eab7207a",
   "metadata": {},
   "outputs": [],
   "source": [
    "#Make prediction \n",
    "sales_dates = monthly_sales['timestamp'][-12:].reset_index(drop=True)\n",
    "predict_df = pd.DataFrame(sales_dates)"
   ]
  },
  {
   "cell_type": "code",
   "execution_count": null,
   "id": "56dce7d4-9289-496f-8cca-9f8404dc84f6",
   "metadata": {},
   "outputs": [],
   "source": [
    "actual_sales = monthly_sales['sales'][-13:].to_list()\n",
    "print(actual_sales)"
   ]
  },
  {
   "cell_type": "code",
   "execution_count": null,
   "id": "3decf962-b195-421d-8f7d-303b76651fb5",
   "metadata": {},
   "outputs": [],
   "source": [
    "#add regression model\n",
    "lr = LinearRegression()\n",
    "lr.fit(x_train, y_train)\n",
    "prediction = lr.predict(x_test)"
   ]
  },
  {
   "cell_type": "code",
   "execution_count": null,
   "id": "fb4e8190-1744-4bc4-b2f3-18d8570e5f00",
   "metadata": {},
   "outputs": [],
   "source": [
    "prediction = lr.reshape(-1, 1)\n",
    "lr_test = np.concatenate([prediction, x_test], axis=1)\n",
    "lr_test = scaler.inverse_transform(lr_test)"
   ]
  },
  {
   "cell_type": "code",
   "execution_count": null,
   "id": "c65ab1b8-f500-4147-ab1d-02a08d543423",
   "metadata": {},
   "outputs": [],
   "source": [
    "results = []\n",
    "for index in range(0, len(lr_test)):\n",
    "    results.append(lr_test[index][0] + actual_sales[index])\n",
    "\n",
    "lr_series = pd.Series(results, name='LinearPrediction')\n",
    "predict = predict(lr_series, left_index=True, tight_index=True)\n",
    "print(predict)"
   ]
  },
  {
   "cell_type": "code",
   "execution_count": null,
   "id": "bf318bae-f8b0-4bc8-b117-6d0dc28151ec",
   "metadata": {},
   "outputs": [],
   "source": [
    "mse = np.sqrt(mean_squared_error(predict['LinearPrediction'], monthly_sales['sales'][-12:]))\n",
    "mae = mena_absolute_error(predict['LinearPrediction'], monthly_sales['sales'][-12:])\n",
    "r2 = r2_score = (predict['LinearPrediction'], monthly_sales['sales'][-12:])\n",
    "print(\"mse:\", mse)\n",
    "print(\"mae:\", mae)\n",
    "print(\"r2_score\", r2)"
   ]
  },
  {
   "cell_type": "code",
   "execution_count": null,
   "id": "ee3dcf94-2fc8-4b95-88ca-62a30b9ad2a2",
   "metadata": {},
   "outputs": [],
   "source": [
    "#visualization\n",
    "plt.figure(figsize=(15, 5))\n",
    "plt.plot(monthly_sales['sales'], monthly_sales['timestamp'])\n",
    "plt.plot(predict['LinearPrediction'], predict('timestamp'))\n",
    "plt.title(\"Customer sales forecast using LR model\")\n",
    "plt.xlabel(\"Date\")\n",
    "plt.ylabel(\"Sales\")\n",
    "plt.legend(['Actual Sales', 'Predicted_Sales'])\n",
    "plt.show()"
   ]
  }
 ],
 "metadata": {
  "kernelspec": {
   "display_name": "Python 3 (ipykernel)",
   "language": "python",
   "name": "python3"
  },
  "language_info": {
   "codemirror_mode": {
    "name": "ipython",
    "version": 3
   },
   "file_extension": ".py",
   "mimetype": "text/x-python",
   "name": "python",
   "nbconvert_exporter": "python",
   "pygments_lexer": "ipython3",
   "version": "3.11.5"
  }
 },
 "nbformat": 4,
 "nbformat_minor": 5
}
